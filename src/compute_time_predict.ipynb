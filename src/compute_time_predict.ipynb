{
  "nbformat": 4,
  "nbformat_minor": 0,
  "metadata": {
    "colab": {
      "name": "Untitled1.ipynb",
      "provenance": []
    },
    "kernelspec": {
      "name": "python3",
      "display_name": "Python 3"
    },
    "language_info": {
      "name": "python"
    }
  },
  "cells": [
    {
      "cell_type": "markdown",
      "source": [
        "라이브러리 추가"
      ],
      "metadata": {
        "id": "SRrBGuzFJ05a"
      }
    },
    {
      "cell_type": "code",
      "execution_count": 31,
      "metadata": {
        "id": "oZJgWe7TSOsI"
      },
      "outputs": [],
      "source": [
        "import numpy as np\n",
        "import matplotlib.pyplot as plt\n",
        "from sklearn.linear_model import LinearRegression\n",
        "from sklearn.preprocessing import PolynomialFeatures\n",
        "from sklearn.pipeline import make_pipeline   "
      ]
    },
    {
      "cell_type": "markdown",
      "source": [
        "input 파일 경로 설정"
      ],
      "metadata": {
        "id": "Tw3Ti5DpJzyF"
      }
    },
    {
      "cell_type": "code",
      "source": [
        "filename = \"/content/resnet50.txt\"\n",
        "f = open(filename,'r')  "
      ],
      "metadata": {
        "id": "dBzueBhlJnEw"
      },
      "execution_count": 32,
      "outputs": []
    },
    {
      "cell_type": "markdown",
      "source": [
        "데이터 파싱 & 그래프에 나타내기"
      ],
      "metadata": {
        "id": "ZjhhO1orKBnJ"
      }
    },
    {
      "cell_type": "code",
      "source": [
        "x = []\n",
        "y = []\n",
        "\n",
        "while True:\n",
        "    line = f.readline()\n",
        "    if line == \"\":\n",
        "        break\n",
        "    line_num = line.split(' ')\n",
        "    x.append(int(line_num[0]))\n",
        "    y.append(float(line_num[1]))\n",
        "\n",
        "f.close()\n",
        "\n",
        "x = np.array(x).reshape(-1,1)\n",
        "y = np.array(y)\n",
        "\n",
        "plt.scatter(x, y, s=5, color=\"blue\")\n",
        "plt.show()"
      ],
      "metadata": {
        "colab": {
          "base_uri": "https://localhost:8080/",
          "height": 265
        },
        "id": "uQ8isv1ySctc",
        "outputId": "9a5b7ea1-21cb-4e81-9988-18d1f8aa74a8"
      },
      "execution_count": 33,
      "outputs": [
        {
          "output_type": "display_data",
          "data": {
            "image/png": "[encoded data removed]",
            "text/plain": [
              "<Figure size 432x288 with 1 Axes>"
            ]
          },
          "metadata": {
            "needs_background": "light"
          }
        }
      ]
    },
    {
      "cell_type": "markdown",
      "source": [
        "모델 학습 & 예측 그래프 작성"
      ],
      "metadata": {
        "id": "DNaRFzziKDOL"
      }
    },
    {
      "cell_type": "code",
      "source": [
        "model_lr = make_pipeline(PolynomialFeatures(degree=2, include_bias=False),LinearRegression())\n",
        "poly = model_lr.fit(x, y)\n",
        "xx = np.linspace(1, 100, 100)\n",
        "y_pred = model_lr.predict(xx[:, np.newaxis])\n",
        "plt.plot(xx, y_pred, color=\"red\")\n",
        "plt.scatter(x, y, s=5)"
      ],
      "metadata": {
        "colab": {
          "base_uri": "https://localhost:8080/",
          "height": 282
        },
        "id": "8q1HWHroFr30",
        "outputId": "7db9bc32-9ba9-4f38-f205-3156c5a587d7"
      },
      "execution_count": 34,
      "outputs": [
        {
          "output_type": "execute_result",
          "data": {
            "text/plain": [
              "<matplotlib.collections.PathCollection at 0x7fcdbb623f90>"
            ]
          },
          "metadata": {},
          "execution_count": 34
        },
        {
          "output_type": "display_data",
          "data": {
            "image/png": "[encoded data removed]",
            "text/plain": [
              "<Figure size 432x288 with 1 Axes>"
            ]
          },
          "metadata": {
            "needs_background": "light"
          }
        }
      ]
    },
    {
      "cell_type": "markdown",
      "source": [
        "값 예측 함수"
      ],
      "metadata": {
        "id": "NMOrujUOKMJu"
      }
    },
    {
      "cell_type": "code",
      "source": [
        "def predict(batch_size):\n",
        "    compute_time = poly.predict([[int(batch_size)]])\n",
        "    return int(compute_time[0])"
      ],
      "metadata": {
        "id": "iCDVquSUGafb"
      },
      "execution_count": 35,
      "outputs": []
    },
    {
      "cell_type": "markdown",
      "source": [
        "compute time 예측"
      ],
      "metadata": {
        "id": "apMPciLMKoN-"
      }
    },
    {
      "cell_type": "code",
      "source": [
        "predict(77)"
      ],
      "metadata": {
        "colab": {
          "base_uri": "https://localhost:8080/"
        },
        "id": "ehFTPXDzKtyN",
        "outputId": "f715b773-d03d-4b61-8036-43ba7eb9410c"
      },
      "execution_count": 36,
      "outputs": [
        {
          "output_type": "execute_result",
          "data": {
            "text/plain": [
              "88388"
            ]
          },
          "metadata": {},
          "execution_count": 36
        }
      ]
    },
    {
      "cell_type": "code",
      "source": [
        "yy = []\n",
        "for i in range(100):\n",
        "    yy.append(xx.tolist()[i]/y_pred.tolist()[i]*1000000)\n",
        "yy = np.array(yy)"
      ],
      "metadata": {
        "id": "PXyW4_XujRM5"
      },
      "execution_count": 37,
      "outputs": []
    },
    {
      "cell_type": "code",
      "source": [
        "print(\"max batch size : \" + str(yy.tolist().index(yy.max())+1))\n",
        "print(\"max request rate : \" + str(yy.max()))\n",
        "plt.xlabel(\"Batch Size\")\n",
        "plt.ylabel(\"Request Rate (req/sec)\")\n",
        "plt.scatter(xx, yy, color=\"blue\", s=2)"
      ],
      "metadata": {
        "colab": {
          "base_uri": "https://localhost:8080/",
          "height": 331
        },
        "id": "AdQu6RNkj2Vi",
        "outputId": "60af567d-790a-4553-e059-6e440822fa6e"
      },
      "execution_count": 53,
      "outputs": [
        {
          "output_type": "stream",
          "name": "stdout",
          "text": [
            "max batch size : 33\n",
            "max request rate : 979.2094892245971\n"
          ]
        },
        {
          "output_type": "execute_result",
          "data": {
            "text/plain": [
              "<matplotlib.collections.PathCollection at 0x7fcdbb530890>"
            ]
          },
          "metadata": {},
          "execution_count": 53
        },
        {
          "output_type": "display_data",
          "data": {
            "image/png": "[encoded data removed]",
            "text/plain": [
              "<Figure size 432x288 with 1 Axes>"
            ]
          },
          "metadata": {
            "needs_background": "light"
          }
        }
      ]
    },
    {
      "cell_type": "markdown",
      "source": [
        "request rate -> batch size 변환 표"
      ],
      "metadata": {
        "id": "3IeRNqnlR2OW"
      }
    },
    {
      "cell_type": "code",
      "source": [
        "filename = \"/content/resnet50_batch.txt\"\n",
        "f = open(filename,'w')  "
      ],
      "metadata": {
        "id": "mmNcnGSjFwQC"
      },
      "execution_count": 55,
      "outputs": []
    },
    {
      "cell_type": "code",
      "source": [
        "for y in yy:\n",
        "    f.write(str(y)+\"\\n\")\n",
        "    if y == yy.max():\n",
        "        break\n",
        "f.close()"
      ],
      "metadata": {
        "id": "j4wWk6N9GFfc"
      },
      "execution_count": 56,
      "outputs": []
    }
  ]
}
